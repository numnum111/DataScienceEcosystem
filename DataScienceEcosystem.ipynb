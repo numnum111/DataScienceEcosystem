{
 "cells": [
  {
   "cell_type": "markdown",
   "id": "b90834f4-693b-4460-a1be-9135a233f67a",
   "metadata": {},
   "source": [
    "# Data Science Tools and Ecosystem"
   ]
  },
  {
   "cell_type": "markdown",
   "id": "376f8b48-93e7-4efc-bfa2-57f2158636a8",
   "metadata": {},
   "source": [
    "In this notebook, Data Science Tools and Ecosystem are summarized."
   ]
  },
  {
   "cell_type": "markdown",
   "id": "9ebc3e98-5e84-454b-9c49-f7fed2a3f08a",
   "metadata": {},
   "source": [
    "**Objectives:**\n",
    "\n",
    "- List popular languages for Data Science\n",
    "- List libraries commonly used by data scientists\n",
    "- Create a table of data science tools\n"
   ]
  },
  {
   "cell_type": "markdown",
   "id": "c02e60e1-86ca-4233-ba79-7833efac3a26",
   "metadata": {},
   "source": [
    "Some of the popular languages that Data Scientists use are:\n",
    "\n",
    "1. Python\n",
    "2. R\n",
    "3. SQL "
   ]
  },
  {
   "cell_type": "markdown",
   "id": "86ad91b4-5e5c-4bfc-909d-a04ae350fac2",
   "metadata": {},
   "source": [
    "Some of the commonly used libraries used by Data Scientists include:\n",
    "1. matplotlib\n",
    "2. pandas\n",
    "3. numpy\n"
   ]
  },
  {
   "cell_type": "markdown",
   "id": "573e2939-0222-4c34-af66-6ca92edf4c28",
   "metadata": {},
   "source": [
    "| Data Science Tools | \n",
    "|--------------------|\n",
    "| Jupyter Notebook   | \n",
    "| RStudio            |\n",
    "| VS Code            |"
   ]
  },
  {
   "cell_type": "markdown",
   "id": "2df15d0b-73f2-4156-86be-0f27f3bac51b",
   "metadata": {},
   "source": [
    "### Below are a few examples of evaluating arithmetic expressions in Python"
   ]
  },
  {
   "cell_type": "markdown",
   "id": "b6ecede3-f23b-4f4c-9445-68f9efc45b24",
   "metadata": {},
   "source": [
    "This a simple arithmetic expression to mutiply then add integers"
   ]
  },
  {
   "cell_type": "code",
   "execution_count": 46,
   "id": "efa1c683-ed07-485d-a591-b37aff828412",
   "metadata": {},
   "outputs": [
    {
     "data": {
      "text/plain": [
       "17"
      ]
     },
     "execution_count": 46,
     "metadata": {},
     "output_type": "execute_result"
    }
   ],
   "source": [
    "(3*4)+5"
   ]
  },
  {
   "cell_type": "markdown",
   "id": "1b96f12d-2e81-4ff3-b3f2-05c6ca90c0f2",
   "metadata": {},
   "source": [
    " This will convert 200 minutes to hours by diving by 60"
   ]
  },
  {
   "cell_type": "code",
   "execution_count": 49,
   "id": "1de30b98-5018-480a-9b10-9f02f37f77d4",
   "metadata": {},
   "outputs": [
    {
     "name": "stdout",
     "output_type": "stream",
     "text": [
      "3.3333333333333335\n"
     ]
    }
   ],
   "source": [
    "minutes = 200\n",
    "hours = minutes /60\n",
    "print(hours)"
   ]
  },
  {
   "cell_type": "markdown",
   "id": "dd9f744b-a8c7-4a1b-a42b-9dc5d988b521",
   "metadata": {},
   "source": [
    "## Author\n",
    "Kohei kikuchi"
   ]
  },
  {
   "cell_type": "code",
   "execution_count": null,
   "id": "277c77f4-f64a-4d51-b502-da57cb9d90a2",
   "metadata": {},
   "outputs": [],
   "source": []
  }
 ],
 "metadata": {
  "kernelspec": {
   "display_name": "Python 3 (ipykernel)",
   "language": "python",
   "name": "python3"
  },
  "language_info": {
   "codemirror_mode": {
    "name": "ipython",
    "version": 3
   },
   "file_extension": ".py",
   "mimetype": "text/x-python",
   "name": "python",
   "nbconvert_exporter": "python",
   "pygments_lexer": "ipython3",
   "version": "3.12.4"
  }
 },
 "nbformat": 4,
 "nbformat_minor": 5
}
